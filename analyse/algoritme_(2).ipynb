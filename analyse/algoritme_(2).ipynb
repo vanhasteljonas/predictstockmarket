{
  "cells": [
    {
      "cell_type": "markdown",
      "metadata": {
        "id": "dNE5cEeng_SS"
      },
      "source": []
    },
    {
      "cell_type": "code",
      "execution_count": 6,
      "metadata": {
        "id": "zH91zHdQgp6K"
      },
      "outputs": [],
      "source": [
        "from urllib.request import urlretrieve\n",
        "from datetime import datetime\n",
        "import pandas as pd\n",
        "\n",
        "def get_historical_data_url(ticker):\n",
        "    unix_oldest_date = 0\n",
        "    unix_newest_date = int(datetime.now().timestamp())\n",
        "    return f\"https://query1.finance.yahoo.com/v7/finance/download/{ticker}?period1={unix_oldest_date}&period2={unix_newest_date}&interval=1d&events=history&includeAdjustedClose=true\"\n",
        "\n",
        "get_historical_data_url(\"AAPL\")\n",
        "\n",
        "def download_data(ticker):\n",
        "    url = get_historical_data_url(ticker)\n",
        "    df = pd.read_csv(url)\n",
        "    # filename = f\"{ticker}.csv\"\n",
        "    # df.to_csv(filename)\n",
        "    return df\n",
        "\n"
      ]
    },
    {
      "cell_type": "markdown",
      "metadata": {
        "id": "dkR5qq_jgPm_"
      },
      "source": [
        "RSI CALCULATOR\n"
      ]
    },
    {
      "cell_type": "code",
      "execution_count": 2,
      "metadata": {
        "colab": {
          "base_uri": "https://localhost:8080/"
        },
        "id": "KEPwHaoc2aKX",
        "outputId": "1fb4539b-bcad-4f8a-8e9b-673a30f8ef22"
      },
      "outputs": [
        {
          "data": {
            "text/plain": [
              "(20.0, 24.333333333333332)"
            ]
          },
          "execution_count": 2,
          "metadata": {},
          "output_type": "execute_result"
        }
      ],
      "source": [
        "def get_gain_los(data):\n",
        "    loss = []\n",
        "    gain = []\n",
        "    for i in range(len(data)):\n",
        "        difference = data[i]-data[i-1]\n",
        "        if(i != 0):\n",
        "            if(difference <= 0):\n",
        "                loss.append(-1 * difference)\n",
        "            elif(difference > 0):\n",
        "                gain.append(difference)\n",
        "    return loss, gain\n",
        "\n",
        "loss, gain = get_gain_los([20,19,50,45,68,46,65,65,84,52,57,65,98,12,34])\n",
        "sum(gain)/len(gain), sum(loss)/len(loss)"
      ]
    },
    {
      "cell_type": "code",
      "execution_count": 3,
      "metadata": {
        "colab": {
          "base_uri": "https://localhost:8080/"
        },
        "id": "0nzu0SRKdJIM",
        "outputId": "d73cc1e1-8ef2-4de7-e15b-776e4e3b22fe"
      },
      "outputs": [
        {
          "data": {
            "text/plain": [
              "[0,\n",
              " 0,\n",
              " 96.875,\n",
              " 91.17647058823529,\n",
              " 90.0,\n",
              " 74.3119266055046,\n",
              " 72.27722772277227,\n",
              " 77.65957446808511,\n",
              " 76.66666666666666,\n",
              " 65.71428571428572,\n",
              " 61.78343949044585,\n",
              " 59.32203389830508,\n",
              " 62.16216216216217,\n",
              " 48.42105263157895,\n",
              " 42.02898550724638]"
            ]
          },
          "execution_count": 3,
          "metadata": {},
          "output_type": "execute_result"
        }
      ],
      "source": [
        "def get_average_gain_loss(data):\n",
        "  loss, gain = get_gain_los(data)\n",
        "  avg_loss = 0\n",
        "  avg_gain = 0\n",
        "  if(len(loss) != 0):\n",
        "    avg_loss = sum(loss)/len(loss)\n",
        "\n",
        "  if(len(gain) != 0):\n",
        "    avg_gain = sum(gain)/len(gain)\n",
        "\n",
        "  return avg_loss, avg_gain\n",
        "\n",
        "def get_rsi(data):\n",
        "    loss, gain = get_average_gain_loss(data)\n",
        "    if loss != 0:\n",
        "      rs = gain / loss\n",
        "      rsi = 100 - (100 / (1 + rs))\n",
        "      return rsi\n",
        "    else:\n",
        "      return 0\n",
        "\n",
        "def get_rsi_column(data, count, onlyLast = False):\n",
        "  rsi_row = []\n",
        "  for i in range(len(data)):\n",
        "    i += 1\n",
        "    start = i - count\n",
        "    if start < 0:\n",
        "      start = 0\n",
        "    rsi_value = (get_rsi(data[start:i]))\n",
        "    if rsi_value != 0:\n",
        "      rsi_row.append(rsi_value)\n",
        "    else:\n",
        "      rsi_row.append(0)\n",
        "  return rsi_row\n",
        "\n",
        "\n",
        "get_rsi_column([20,19,50,45,68,46,65,65,84,52,57,65,98,32,39], 14)"
      ]
    },
    {
      "cell_type": "markdown",
      "metadata": {
        "id": "xqgM8K1w5enh"
      },
      "source": [
        "Berekenen van Bollinger bands"
      ]
    },
    {
      "cell_type": "code",
      "execution_count": 4,
      "metadata": {
        "id": "XUSpwmaa5kKC"
      },
      "outputs": [],
      "source": [
        "def calculate_boba_row(df,count, onlyLastOne=False):\n",
        "  # df = data.copy()\n",
        "  if not onlyLastOne:\n",
        "    df['SMA'] = df['Open'].rolling(window=count).mean()\n",
        "    df['SD'] = df['Open'].rolling(window=count).std()\n",
        "  elif onlyLastOne:\n",
        "\n",
        "    df['SMA'] = df['Open'][-count:].mean()\n",
        "    df['SD'] = df['Open'][-count:].std()\n",
        "\n",
        "  # Bereken Upper en Lower Bollinger Bands\n",
        "  upper_band_row = df['SMA'] + (2 * df['SD'])\n",
        "  lower_band_row = df['SMA'] - (2 * df['SD'])\n",
        "\n",
        "  return upper_band_row, lower_band_row\n"
      ]
    },
    {
      "cell_type": "markdown",
      "metadata": {
        "id": "lteo54GOoWOk"
      },
      "source": [
        "Dataframe klaarmaken en ophalen"
      ]
    },
    {
      "cell_type": "markdown",
      "metadata": {
        "id": "RwGTRE0J2aKZ"
      },
      "source": [
        "average volumes berekenen"
      ]
    },
    {
      "cell_type": "code",
      "execution_count": 5,
      "metadata": {
        "id": "oRETUTyoi8Y8"
      },
      "outputs": [],
      "source": [
        "def calculate_avg_volumes(df, count,onlyLastOne=False):\n",
        "  # Bereken het gemiddelde volume van de voorgaande\n",
        "  if not onlyLastOne:\n",
        "    df['avg_volume'] = df['Volume'].rolling(window=count).mean()\n",
        "    df['avg_open'] = df['Open'].rolling(window=count).mean()\n",
        "  elif onlyLastOne:\n",
        "\n",
        "    df['avg_volume'] = df['Volume'][-count:].mean()\n",
        "    df['avg_open'] = df['Open'][-count:].mean()\n",
        "  return df"
      ]
    },
    {
      "cell_type": "markdown",
      "metadata": {
        "id": "fww5L9FHjP38"
      },
      "source": [
        "rsi berekenen"
      ]
    },
    {
      "cell_type": "code",
      "execution_count": 6,
      "metadata": {
        "id": "e5Uj0ackjQO_"
      },
      "outputs": [],
      "source": [
        "def calculate_rsi_df(df, count, onlyLastOne=False):\n",
        "    # Bereken de RSI-waarde\n",
        "    df[f\"Rsi{count}\"] = get_rsi_column(df[\"Open\"].array,count,onlyLastOne)\n",
        "    return df"
      ]
    },
    {
      "cell_type": "markdown",
      "metadata": {
        "id": "BlqEhEpwjcF3"
      },
      "source": []
    },
    {
      "cell_type": "code",
      "execution_count": 7,
      "metadata": {
        "id": "T3U1jJiSjclw"
      },
      "outputs": [],
      "source": [
        "def calculate_boba_df(df, count, onlyLastOne=False):\n",
        "  #Bereken bollinger bands\n",
        "    df[f\"lower_band_{count}\"], df[f\"upper_band_{count}\"] = calculate_boba_row(df,count, onlyLastOne)\n",
        "    return df"
      ]
    },
    {
      "cell_type": "markdown",
      "metadata": {
        "id": "iP4P3h6gj9rV"
      },
      "source": [
        "datum naar unix time"
      ]
    },
    {
      "cell_type": "code",
      "execution_count": 8,
      "metadata": {
        "id": "62DU4-Pfj-Cp"
      },
      "outputs": [],
      "source": [
        "from datetime import datetime\n",
        "def convert_dates_to_int(df):\n",
        "     #Datum vervangen door int\n",
        "  return int(datetime.strptime(df, \"%Y-%m-%d\").timestamp())\n",
        "\n",
        "def convert_int_to_dates(df):\n",
        "  return datetime.fromtimestamp(df).strftime(\"%Y-%m-%d\")"
      ]
    },
    {
      "cell_type": "code",
      "execution_count": 41,
      "metadata": {
        "id": "whYdOE_ooZKm"
      },
      "outputs": [],
      "source": [
        "def get_df_ready(df, count):\n",
        "  print(df.info())\n",
        "  #close mag niet weggesmeten worden anders is het onmogelijk om model te trainen\n",
        "  #df = df.drop(\"Close\", axis=1)\n",
        "  df = df.drop(\"Adj Close\", axis=1)\n",
        "  df = df.drop(\"High\", axis=1)\n",
        "  df = df.drop(\"Low\", axis=1)\n",
        "  df = df.dropna()\n",
        "  df = calculate_avg_volumes(df, count)\n",
        "  df = calculate_rsi_df(df, count)\n",
        "  df = calculate_boba_df(df, count)\n",
        "  df['Date'] = df['Date'].apply(convert_dates_to_int)\n",
        "  return df\n",
        "\n",
        "def calculate_axis(df, target):\n",
        "  X = df.drop(columns=[target])\n",
        "  y = df[target]\n",
        "  return X, y\n",
        "\n",
        "\n"
      ]
    },
    {
      "cell_type": "markdown",
      "metadata": {
        "id": "ZhOcpP69gd54"
      },
      "source": [
        "Uitvoeren close predict algoritme"
      ]
    },
    {
      "cell_type": "code",
      "execution_count": 10,
      "metadata": {
        "id": "UdI0ZG4agZXu"
      },
      "outputs": [],
      "source": [
        "import pandas as pd\n",
        "import xgboost as xgb\n",
        "import numpy as np\n",
        "from sklearn.model_selection import train_test_split\n",
        "from sklearn.metrics import mean_squared_error\n",
        "\n",
        "def get_xgboost_model(X_train,y_train):\n",
        "  gbm = xgb.XGBRegressor(max_depth=4, n_estimators=500, learning_rate=0.03)\n",
        "  gbm.fit(X_train, y_train)\n",
        "  return gbm\n",
        "\n",
        "def test_xgboost(gbm, X_test, y_test):\n",
        "  predictions = gbm.predict(X_test)\n",
        "  solutions = pd.DataFrame({'Actual': y_test, 'Predicted': predictions})\n",
        "  solutions_sorted = solutions.sort_index(ascending=True)\n",
        "  print(solutions_sorted.iloc[-10:])\n",
        "  mse = mean_squared_error(y_test, predictions)\n",
        "  print(\"Mean Squared Error:\", mse)\n",
        "\n",
        "  return predictions"
      ]
    },
    {
      "cell_type": "code",
      "execution_count": null,
      "metadata": {
        "id": "yQn99BRC2aKe"
      },
      "outputs": [],
      "source": [
        "# df = download_data(\"AAPL\")\n",
        "# df = get_df_ready(df);\n",
        "# X,y = calculate_axis(df, \"Close\")\n",
        "# X_train, X_test, y_train, y_test = train_test_split(X,y,test_size=0.2)\n",
        "# model = get_xgboost_model(X_train,y_train)\n",
        "# test_xgboost(model,X_test,y_test)"
      ]
    },
    {
      "cell_type": "markdown",
      "metadata": {
        "id": "vD1P2QDOtbBq"
      },
      "source": [
        "Het voorspellen van de y-waardes (retourneert enkel y-waardes)"
      ]
    },
    {
      "cell_type": "code",
      "execution_count": 11,
      "metadata": {
        "id": "1zQ3BXPBtbbV"
      },
      "outputs": [],
      "source": [
        "def predict_xgboost_close(gbm, X_test):\n",
        "\n",
        "    # Make predictions\n",
        "    predictions = gbm.predict(X_test)\n",
        "\n",
        "    return predictions"
      ]
    },
    {
      "cell_type": "markdown",
      "metadata": {
        "id": "qO3tpD0GZ_6Z"
      },
      "source": [
        "Plotten van voorspelde tov reele waarde (OUD)\n"
      ]
    },
    {
      "cell_type": "code",
      "execution_count": 12,
      "metadata": {
        "id": "3u-LitKOaAGW"
      },
      "outputs": [],
      "source": [
        "import matplotlib.pyplot as plt\n",
        "\n",
        "\n",
        "# Plot werkelijke vs voorspelde waarden\n",
        "def plot_prediction(X_test,y_test,y_pred):\n",
        "  resultaten = pd.DataFrame({\"Date\": X_test.index, \"Werkelijke\": y_test, \"Voorspeld\": y_pred})\n",
        "  resultaten = resultaten.sort_values(by=\"Date\")  # Sorteer op tijdstempel als dat nog niet is gebeurd\n",
        "\n",
        "  # Maak de lijngrafiek\n",
        "  plt.figure(figsize=(10, 6))\n",
        "  plt.plot(resultaten[\"Date\"], resultaten[\"Werkelijke\"], label=\"Werkelijke waarden\", marker='o')\n",
        "  plt.plot(resultaten[\"Date\"], resultaten[\"Voorspeld\"], label=\"Voorspelde waarden\", marker='x')\n",
        "  plt.xlabel(\"Datum\")\n",
        "  plt.ylabel(\"Waarde\")\n",
        "  plt.title(\"Werkelijke vs Voorspelde waarden\")\n",
        "  plt.xticks(rotation=45)  # Draai de datums voor leesbaarheid\n",
        "  plt.legend()\n",
        "  plt.grid(True)\n",
        "\n",
        "  # Inzoomen op de laatste honderd waarden\n",
        "  laatste_honderd = resultaten.iloc[-30:]  # Krijg de laatste honderd rijen\n",
        "  plt.xlim(laatste_honderd[\"Date\"].iloc[0], laatste_honderd[\"Date\"].iloc[-1])  # Stel het bereik van de x-as in\n",
        "  plt.ylim(150, 200)  # Beperk y-as van 150 tot 200\n",
        "\n",
        "  plt.tight_layout()\n",
        "  plt.show()"
      ]
    },
    {
      "cell_type": "markdown",
      "metadata": {
        "id": "Iw6eKBvot0By"
      },
      "source": [
        "Retourneert de laatste rij van een gegeven dataframe (als een dataframe)"
      ]
    },
    {
      "cell_type": "code",
      "execution_count": 13,
      "metadata": {
        "id": "eeWrL9sst0ft"
      },
      "outputs": [],
      "source": [
        "def get_last_row(X_values):\n",
        "  row = X_values.iloc[-1:]\n",
        "  return row\n",
        "\n",
        "def get_before_last_row(X_values):\n",
        "  row = X_values.iloc[-2]\n",
        "\n",
        "\n",
        "  return row"
      ]
    },
    {
      "cell_type": "markdown",
      "metadata": {
        "id": "7yx8R5XpvSE3"
      },
      "source": [
        "Voorspellen van de standaard features (\"Open\",\"Volume\",\"Date\")"
      ]
    },
    {
      "cell_type": "code",
      "execution_count": 46,
      "metadata": {
        "id": "iE9BHRpURIA_"
      },
      "outputs": [],
      "source": [
        "def add_new_row(df, count, volume_model):\n",
        "  new_row = get_last_row(df)\n",
        "  last_row = get_last_row(df)\n",
        "  #open_prediction = open_model.predict(last_row)\n",
        "\n",
        "  #Open vandaag = close van gisteren\n",
        "  new_row[\"Open\"] = last_row[\"Close\"]\n",
        "\n",
        "  #volume voorspellen maar eerst oude volume verwijderen voor acurate voorspelling\n",
        "  last_row = last_row.drop(\"Volume\",axis=1)\n",
        "  print(\"pred volume\")\n",
        "  print(last_row)\n",
        "  volume_prediction = volume_model.predict(last_row)\n",
        "  print(volume_prediction)\n",
        "  print(\"succes volume pred\")\n",
        "\n",
        "  #Volume vervangen\n",
        "  new_row[\"Volume\"] = volume_prediction;\n",
        "\n",
        "  #De dag 1 dag opschuiven\n",
        "  #!WAT ALS DE BEURS DE DAG EROP NIET OPEN IS\n",
        "  new_row[\"Date\"] = last_row[\"Date\"] + 24*3600;\n",
        "\n",
        "  count = count*2\n",
        "  # rij toevoegen aan dataframe en dataframe nieuwe features berekenen\n",
        "  df = pd.concat([df, new_row], ignore_index=True)\n",
        "  df = calculate_avg_volumes(df, count, onlyLastOne=True)\n",
        "  df = calculate_boba_df(df, count, onlyLastOne=True)\n",
        "  df = calculate_rsi_df(df, count)\n",
        "  return df\n"
      ]
    },
    {
      "cell_type": "code",
      "execution_count": 29,
      "metadata": {
        "id": "nnQJFrVe6YBX"
      },
      "outputs": [],
      "source": [
        "def predict_last_row_open(df,open_model):\n",
        "  last_row = get_last_row(df)\n",
        "  last_row = last_row.drop(\"Close\",axis=1)\n",
        "\n",
        "  open_prediction = open_model.predict(last_row)\n",
        "\n",
        "  df.loc[df.index[-1], \"Open\"] = open_prediction[0]\n",
        "  return df"
      ]
    },
    {
      "cell_type": "code",
      "execution_count": null,
      "metadata": {
        "id": "qEs55TyN2aKg"
      },
      "outputs": [],
      "source": [
        "# df = get_df_ready(download_data(\"AAPL\"))\n",
        "# print(df.tail())\n",
        "# X, y = calculate_axis(df, \"Open\")\n",
        "# open_model = get_xgboost_model(X, y)\n",
        "# X, y = calculate_axis(df, \"Volume\")\n",
        "# volume_model = get_xgboost_model(X, y)\n",
        "# df = predict_new_row(df, open_model, volume_model)\n",
        "# print(df.tail())"
      ]
    },
    {
      "cell_type": "markdown",
      "metadata": {
        "id": "HLjAa5tAs4vF"
      },
      "source": [
        "Voorspellen van de standaard features van een aantal nieuwe rijen (retourneert alleen de nieuwe rijen als dataframe)\n",
        "\n",
        "Ik heb dit zo gedaan zodat je kan zien op de grafiek wat de reele waarden zijn en wat de voorspelde waarden zijn\n"
      ]
    },
    {
      "cell_type": "code",
      "execution_count": 39,
      "metadata": {
        "id": "Ak5iXngzvRoa"
      },
      "outputs": [],
      "source": [
        "def predict_new_rows(count, df):\n",
        "   #Het dataframe omzetten naar X & y waardes\n",
        "  #Model maken adhv X & y\n",
        "  X, y = calculate_axis(df, \"Close\")\n",
        "  open_model = get_xgboost_model(X, y)\n",
        "\n",
        "\n",
        "\n",
        "  X, y = calculate_axis(df, \"Volume\")\n",
        "  print(X)\n",
        "  volume_model = get_xgboost_model(X, y)\n",
        "\n",
        "  #Het dataframe omzetten naar X & y waardes\n",
        "  #Model maken adhv X & y\n",
        "  #MOdel wordt hier gemaakt omdat je anders altijd een nieuwe rij maakt\n",
        "  for i in range(count):\n",
        "    df = add_new_row(df, count, volume_model)\n",
        "    df = predict_last_row_open(df,open_model)\n",
        "  return df"
      ]
    },
    {
      "cell_type": "markdown",
      "metadata": {
        "id": "3MoVv7xCsbeA"
      },
      "source": []
    },
    {
      "cell_type": "code",
      "execution_count": 20,
      "metadata": {
        "id": "61XuALMasb41"
      },
      "outputs": [],
      "source": [
        "def split_train_test(X,y):\n",
        "  total_size = len(X)\n",
        "\n",
        "  # Bepaal het indexpunt waar de 80% grens ligt\n",
        "  split_index = int(0.8 * total_size)\n",
        "\n",
        "  # Splits de gegevens op basis van de index\n",
        "  X_train, X_test = X[:split_index], X[split_index:]\n",
        "  y_train, y_test = y[:split_index], y[split_index:]\n",
        "  return X_train, X_test, y_train, y_test"
      ]
    },
    {
      "cell_type": "markdown",
      "metadata": {
        "id": "dbOWJzQatE_o"
      },
      "source": [
        "Het printen van de nieuwe voorspelde waardes in een grafiek"
      ]
    },
    {
      "cell_type": "code",
      "execution_count": null,
      "metadata": {
        "id": "ZDPtfxB72aKi",
        "outputId": "01450591-d220-4dea-a500-fe6521cff3c2"
      },
      "outputs": [
        {
          "data": {
            "text/html": [
              "<div>\n",
              "<style scoped>\n",
              "    .dataframe tbody tr th:only-of-type {\n",
              "        vertical-align: middle;\n",
              "    }\n",
              "\n",
              "    .dataframe tbody tr th {\n",
              "        vertical-align: top;\n",
              "    }\n",
              "\n",
              "    .dataframe thead th {\n",
              "        text-align: right;\n",
              "    }\n",
              "</style>\n",
              "<table border=\"1\" class=\"dataframe\">\n",
              "  <thead>\n",
              "    <tr style=\"text-align: right;\">\n",
              "      <th></th>\n",
              "      <th>Date</th>\n",
              "      <th>Open</th>\n",
              "      <th>High</th>\n",
              "      <th>Low</th>\n",
              "      <th>Adj Close</th>\n",
              "      <th>Volume</th>\n",
              "    </tr>\n",
              "  </thead>\n",
              "  <tbody>\n",
              "    <tr>\n",
              "      <th>0</th>\n",
              "      <td>1980-12-12</td>\n",
              "      <td>0.128348</td>\n",
              "      <td>0.128906</td>\n",
              "      <td>0.128348</td>\n",
              "      <td>0.099192</td>\n",
              "      <td>469033600</td>\n",
              "    </tr>\n",
              "    <tr>\n",
              "      <th>1</th>\n",
              "      <td>1980-12-15</td>\n",
              "      <td>0.122210</td>\n",
              "      <td>0.122210</td>\n",
              "      <td>0.121652</td>\n",
              "      <td>0.094017</td>\n",
              "      <td>175884800</td>\n",
              "    </tr>\n",
              "    <tr>\n",
              "      <th>2</th>\n",
              "      <td>1980-12-16</td>\n",
              "      <td>0.113281</td>\n",
              "      <td>0.113281</td>\n",
              "      <td>0.112723</td>\n",
              "      <td>0.087117</td>\n",
              "      <td>105728000</td>\n",
              "    </tr>\n",
              "    <tr>\n",
              "      <th>3</th>\n",
              "      <td>1980-12-17</td>\n",
              "      <td>0.115513</td>\n",
              "      <td>0.116071</td>\n",
              "      <td>0.115513</td>\n",
              "      <td>0.089273</td>\n",
              "      <td>86441600</td>\n",
              "    </tr>\n",
              "    <tr>\n",
              "      <th>4</th>\n",
              "      <td>1980-12-18</td>\n",
              "      <td>0.118862</td>\n",
              "      <td>0.119420</td>\n",
              "      <td>0.118862</td>\n",
              "      <td>0.091861</td>\n",
              "      <td>73449600</td>\n",
              "    </tr>\n",
              "    <tr>\n",
              "      <th>...</th>\n",
              "      <td>...</td>\n",
              "      <td>...</td>\n",
              "      <td>...</td>\n",
              "      <td>...</td>\n",
              "      <td>...</td>\n",
              "      <td>...</td>\n",
              "    </tr>\n",
              "    <tr>\n",
              "      <th>10899</th>\n",
              "      <td>2024-03-08</td>\n",
              "      <td>169.000000</td>\n",
              "      <td>173.699997</td>\n",
              "      <td>168.940002</td>\n",
              "      <td>170.729996</td>\n",
              "      <td>76114600</td>\n",
              "    </tr>\n",
              "    <tr>\n",
              "      <th>10900</th>\n",
              "      <td>2024-03-11</td>\n",
              "      <td>172.940002</td>\n",
              "      <td>174.380005</td>\n",
              "      <td>172.050003</td>\n",
              "      <td>172.750000</td>\n",
              "      <td>60139500</td>\n",
              "    </tr>\n",
              "    <tr>\n",
              "      <th>10901</th>\n",
              "      <td>2024-03-12</td>\n",
              "      <td>173.149994</td>\n",
              "      <td>174.029999</td>\n",
              "      <td>171.009995</td>\n",
              "      <td>173.229996</td>\n",
              "      <td>59825400</td>\n",
              "    </tr>\n",
              "    <tr>\n",
              "      <th>10902</th>\n",
              "      <td>2024-03-13</td>\n",
              "      <td>172.770004</td>\n",
              "      <td>173.190002</td>\n",
              "      <td>170.759995</td>\n",
              "      <td>171.130005</td>\n",
              "      <td>52437800</td>\n",
              "    </tr>\n",
              "    <tr>\n",
              "      <th>10903</th>\n",
              "      <td>2024-03-14</td>\n",
              "      <td>172.910004</td>\n",
              "      <td>174.307800</td>\n",
              "      <td>172.050003</td>\n",
              "      <td>173.259995</td>\n",
              "      <td>23998378</td>\n",
              "    </tr>\n",
              "  </tbody>\n",
              "</table>\n",
              "<p>10904 rows × 6 columns</p>\n",
              "</div>"
            ],
            "text/plain": [
              "             Date        Open        High         Low   Adj Close     Volume\n",
              "0      1980-12-12    0.128348    0.128906    0.128348    0.099192  469033600\n",
              "1      1980-12-15    0.122210    0.122210    0.121652    0.094017  175884800\n",
              "2      1980-12-16    0.113281    0.113281    0.112723    0.087117  105728000\n",
              "3      1980-12-17    0.115513    0.116071    0.115513    0.089273   86441600\n",
              "4      1980-12-18    0.118862    0.119420    0.118862    0.091861   73449600\n",
              "...           ...         ...         ...         ...         ...        ...\n",
              "10899  2024-03-08  169.000000  173.699997  168.940002  170.729996   76114600\n",
              "10900  2024-03-11  172.940002  174.380005  172.050003  172.750000   60139500\n",
              "10901  2024-03-12  173.149994  174.029999  171.009995  173.229996   59825400\n",
              "10902  2024-03-13  172.770004  173.190002  170.759995  171.130005   52437800\n",
              "10903  2024-03-14  172.910004  174.307800  172.050003  173.259995   23998378\n",
              "\n",
              "[10904 rows x 6 columns]"
            ]
          },
          "execution_count": 198,
          "metadata": {},
          "output_type": "execute_result"
        }
      ],
      "source": [
        "download_data(\"AAPL\").drop(\"Close\", axis=1)"
      ]
    },
    {
      "cell_type": "code",
      "execution_count": 49,
      "metadata": {
        "colab": {
          "base_uri": "https://localhost:8080/",
          "height": 1000
        },
        "id": "GjtHSwGvtFXi",
        "outputId": "c58aa07a-6800-4a34-c638-5a48030adc58"
      },
      "outputs": [
        {
          "name": "stdout",
          "output_type": "stream",
          "text": [
            "<class 'pandas.core.frame.DataFrame'>\n",
            "RangeIndex: 10907 entries, 0 to 10906\n",
            "Data columns (total 7 columns):\n",
            " #   Column     Non-Null Count  Dtype  \n",
            "---  ------     --------------  -----  \n",
            " 0   Date       10907 non-null  object \n",
            " 1   Open       10907 non-null  float64\n",
            " 2   High       10907 non-null  float64\n",
            " 3   Low        10907 non-null  float64\n",
            " 4   Close      10907 non-null  float64\n",
            " 5   Adj Close  10907 non-null  float64\n",
            " 6   Volume     10907 non-null  int64  \n",
            "dtypes: float64(5), int64(1), object(1)\n",
            "memory usage: 596.6+ KB\n",
            "None\n",
            "             Date        Open       Close  avg_volume    avg_open      Rsi20  \\\n",
            "0       345427200    0.128348    0.128348         NaN         NaN   0.000000   \n",
            "1       345686400    0.122210    0.121652         NaN         NaN   0.000000   \n",
            "2       345772800    0.113281    0.112723         NaN         NaN   0.000000   \n",
            "3       345859200    0.115513    0.115513         NaN         NaN  22.855973   \n",
            "4       345945600    0.118862    0.118862         NaN         NaN  27.029252   \n",
            "...           ...         ...         ...         ...         ...        ...   \n",
            "10902  1710288000  172.770004  171.130005  64112395.0  178.307999  41.848117   \n",
            "10903  1710374400  172.910004  173.000000  65026545.0  177.687499  38.962720   \n",
            "10904  1710460800  171.169998  172.619995  67838055.0  177.068499  37.125687   \n",
            "10905  1710720000  175.570007  173.720001  69133195.0  176.675999  43.271079   \n",
            "10906  1710806400  174.339996  176.080002  69206415.0  176.303500  46.781155   \n",
            "\n",
            "              SMA        SD  lower_band_20  upper_band_20  \n",
            "0             NaN       NaN            NaN            NaN  \n",
            "1             NaN       NaN            NaN            NaN  \n",
            "2             NaN       NaN            NaN            NaN  \n",
            "3             NaN       NaN            NaN            NaN  \n",
            "4             NaN       NaN            NaN            NaN  \n",
            "...           ...       ...            ...            ...  \n",
            "10902  178.307999  5.720465     189.748930     166.867068  \n",
            "10903  177.687499  5.591443     188.870385     166.504613  \n",
            "10904  177.068499  5.593540     188.255579     165.881419  \n",
            "10905  176.675999  5.396339     187.468677     165.883322  \n",
            "10906  176.303500  5.280639     186.864777     165.742222  \n",
            "\n",
            "[10907 rows x 10 columns]\n"
          ]
        },
        {
          "name": "stderr",
          "output_type": "stream",
          "text": [
            "<ipython-input-46-8c6dbfc8dcc0>:7: SettingWithCopyWarning: \n",
            "A value is trying to be set on a copy of a slice from a DataFrame.\n",
            "Try using .loc[row_indexer,col_indexer] = value instead\n",
            "\n",
            "See the caveats in the documentation: https://pandas.pydata.org/pandas-docs/stable/user_guide/indexing.html#returning-a-view-versus-a-copy\n",
            "  new_row[\"Open\"] = last_row[\"Close\"]\n",
            "<ipython-input-46-8c6dbfc8dcc0>:18: SettingWithCopyWarning: \n",
            "A value is trying to be set on a copy of a slice from a DataFrame.\n",
            "Try using .loc[row_indexer,col_indexer] = value instead\n",
            "\n",
            "See the caveats in the documentation: https://pandas.pydata.org/pandas-docs/stable/user_guide/indexing.html#returning-a-view-versus-a-copy\n",
            "  new_row[\"Volume\"] = volume_prediction;\n",
            "<ipython-input-46-8c6dbfc8dcc0>:22: SettingWithCopyWarning: \n",
            "A value is trying to be set on a copy of a slice from a DataFrame.\n",
            "Try using .loc[row_indexer,col_indexer] = value instead\n",
            "\n",
            "See the caveats in the documentation: https://pandas.pydata.org/pandas-docs/stable/user_guide/indexing.html#returning-a-view-versus-a-copy\n",
            "  new_row[\"Date\"] = last_row[\"Date\"] + 24*3600;\n"
          ]
        },
        {
          "name": "stdout",
          "output_type": "stream",
          "text": [
            "pred volume\n",
            "             Date        Open       Close  avg_volume  avg_open      Rsi20  \\\n",
            "10906  1710806400  174.339996  176.080002  69206415.0  176.3035  46.781155   \n",
            "\n",
            "            SMA        SD  lower_band_20  upper_band_20  \n",
            "10906  176.3035  5.280639     186.864777     165.742222  \n",
            "[63274012.]\n",
            "succes volume pred\n",
            "success\n",
            "succes\n"
          ]
        },
        {
          "name": "stderr",
          "output_type": "stream",
          "text": [
            "<ipython-input-46-8c6dbfc8dcc0>:7: SettingWithCopyWarning: \n",
            "A value is trying to be set on a copy of a slice from a DataFrame.\n",
            "Try using .loc[row_indexer,col_indexer] = value instead\n",
            "\n",
            "See the caveats in the documentation: https://pandas.pydata.org/pandas-docs/stable/user_guide/indexing.html#returning-a-view-versus-a-copy\n",
            "  new_row[\"Open\"] = last_row[\"Close\"]\n",
            "<ipython-input-46-8c6dbfc8dcc0>:18: SettingWithCopyWarning: \n",
            "A value is trying to be set on a copy of a slice from a DataFrame.\n",
            "Try using .loc[row_indexer,col_indexer] = value instead\n",
            "\n",
            "See the caveats in the documentation: https://pandas.pydata.org/pandas-docs/stable/user_guide/indexing.html#returning-a-view-versus-a-copy\n",
            "  new_row[\"Volume\"] = volume_prediction;\n",
            "<ipython-input-46-8c6dbfc8dcc0>:22: SettingWithCopyWarning: \n",
            "A value is trying to be set on a copy of a slice from a DataFrame.\n",
            "Try using .loc[row_indexer,col_indexer] = value instead\n",
            "\n",
            "See the caveats in the documentation: https://pandas.pydata.org/pandas-docs/stable/user_guide/indexing.html#returning-a-view-versus-a-copy\n",
            "  new_row[\"Date\"] = last_row[\"Date\"] + 24*3600;\n"
          ]
        },
        {
          "name": "stdout",
          "output_type": "stream",
          "text": [
            "pred volume\n",
            "             Date        Open       Close  avg_volume  avg_open      Rsi20  \\\n",
            "10907  1710892800  175.613129  176.080002  70293630.6  176.0105  47.148284   \n",
            "\n",
            "            SMA        SD  lower_band_20  upper_band_20  \n",
            "10907  176.0105  5.111291     186.233082     165.787918  \n",
            "[75937784.]\n",
            "succes volume pred\n",
            "success\n",
            "succes\n"
          ]
        },
        {
          "name": "stderr",
          "output_type": "stream",
          "text": [
            "<ipython-input-46-8c6dbfc8dcc0>:7: SettingWithCopyWarning: \n",
            "A value is trying to be set on a copy of a slice from a DataFrame.\n",
            "Try using .loc[row_indexer,col_indexer] = value instead\n",
            "\n",
            "See the caveats in the documentation: https://pandas.pydata.org/pandas-docs/stable/user_guide/indexing.html#returning-a-view-versus-a-copy\n",
            "  new_row[\"Open\"] = last_row[\"Close\"]\n",
            "<ipython-input-46-8c6dbfc8dcc0>:18: SettingWithCopyWarning: \n",
            "A value is trying to be set on a copy of a slice from a DataFrame.\n",
            "Try using .loc[row_indexer,col_indexer] = value instead\n",
            "\n",
            "See the caveats in the documentation: https://pandas.pydata.org/pandas-docs/stable/user_guide/indexing.html#returning-a-view-versus-a-copy\n",
            "  new_row[\"Volume\"] = volume_prediction;\n",
            "<ipython-input-46-8c6dbfc8dcc0>:22: SettingWithCopyWarning: \n",
            "A value is trying to be set on a copy of a slice from a DataFrame.\n",
            "Try using .loc[row_indexer,col_indexer] = value instead\n",
            "\n",
            "See the caveats in the documentation: https://pandas.pydata.org/pandas-docs/stable/user_guide/indexing.html#returning-a-view-versus-a-copy\n",
            "  new_row[\"Date\"] = last_row[\"Date\"] + 24*3600;\n"
          ]
        },
        {
          "name": "stdout",
          "output_type": "stream",
          "text": [
            "pred volume\n",
            "             Date        Open       Close  avg_volume    avg_open      Rsi20  \\\n",
            "10908  1710979200  175.417953  176.080002  71475909.8  175.617156  44.203915   \n",
            "\n",
            "              SMA        SD  lower_band_20  upper_band_20  \n",
            "10908  175.617156  4.799401     185.215958     166.018354  \n",
            "[78843800.]\n",
            "succes volume pred\n",
            "success\n",
            "succes\n"
          ]
        },
        {
          "name": "stderr",
          "output_type": "stream",
          "text": [
            "<ipython-input-46-8c6dbfc8dcc0>:7: SettingWithCopyWarning: \n",
            "A value is trying to be set on a copy of a slice from a DataFrame.\n",
            "Try using .loc[row_indexer,col_indexer] = value instead\n",
            "\n",
            "See the caveats in the documentation: https://pandas.pydata.org/pandas-docs/stable/user_guide/indexing.html#returning-a-view-versus-a-copy\n",
            "  new_row[\"Open\"] = last_row[\"Close\"]\n",
            "<ipython-input-46-8c6dbfc8dcc0>:18: SettingWithCopyWarning: \n",
            "A value is trying to be set on a copy of a slice from a DataFrame.\n",
            "Try using .loc[row_indexer,col_indexer] = value instead\n",
            "\n",
            "See the caveats in the documentation: https://pandas.pydata.org/pandas-docs/stable/user_guide/indexing.html#returning-a-view-versus-a-copy\n",
            "  new_row[\"Volume\"] = volume_prediction;\n",
            "<ipython-input-46-8c6dbfc8dcc0>:22: SettingWithCopyWarning: \n",
            "A value is trying to be set on a copy of a slice from a DataFrame.\n",
            "Try using .loc[row_indexer,col_indexer] = value instead\n",
            "\n",
            "See the caveats in the documentation: https://pandas.pydata.org/pandas-docs/stable/user_guide/indexing.html#returning-a-view-versus-a-copy\n",
            "  new_row[\"Date\"] = last_row[\"Date\"] + 24*3600;\n"
          ]
        },
        {
          "name": "stdout",
          "output_type": "stream",
          "text": [
            "pred volume\n",
            "             Date        Open       Close  avg_volume    avg_open      Rsi20  \\\n",
            "10909  1711065600  175.831497  176.080002  73162114.8  175.137554  47.836318   \n",
            "\n",
            "              SMA        SD  lower_band_20  upper_band_20  \n",
            "10909  175.137554  4.260372     183.658299      166.61681  \n",
            "[78631704.]\n",
            "succes volume pred\n",
            "success\n",
            "succes\n"
          ]
        },
        {
          "name": "stderr",
          "output_type": "stream",
          "text": [
            "<ipython-input-46-8c6dbfc8dcc0>:7: SettingWithCopyWarning: \n",
            "A value is trying to be set on a copy of a slice from a DataFrame.\n",
            "Try using .loc[row_indexer,col_indexer] = value instead\n",
            "\n",
            "See the caveats in the documentation: https://pandas.pydata.org/pandas-docs/stable/user_guide/indexing.html#returning-a-view-versus-a-copy\n",
            "  new_row[\"Open\"] = last_row[\"Close\"]\n",
            "<ipython-input-46-8c6dbfc8dcc0>:18: SettingWithCopyWarning: \n",
            "A value is trying to be set on a copy of a slice from a DataFrame.\n",
            "Try using .loc[row_indexer,col_indexer] = value instead\n",
            "\n",
            "See the caveats in the documentation: https://pandas.pydata.org/pandas-docs/stable/user_guide/indexing.html#returning-a-view-versus-a-copy\n",
            "  new_row[\"Volume\"] = volume_prediction;\n",
            "<ipython-input-46-8c6dbfc8dcc0>:22: SettingWithCopyWarning: \n",
            "A value is trying to be set on a copy of a slice from a DataFrame.\n",
            "Try using .loc[row_indexer,col_indexer] = value instead\n",
            "\n",
            "See the caveats in the documentation: https://pandas.pydata.org/pandas-docs/stable/user_guide/indexing.html#returning-a-view-versus-a-copy\n",
            "  new_row[\"Date\"] = last_row[\"Date\"] + 24*3600;\n"
          ]
        },
        {
          "name": "stdout",
          "output_type": "stream",
          "text": [
            "pred volume\n",
            "             Date        Open       Close  avg_volume    avg_open      Rsi20  \\\n",
            "10910  1711152000  174.969849  176.080002  75050330.0  174.817129  44.125371   \n",
            "\n",
            "              SMA        SD  lower_band_20  upper_band_20  \n",
            "10910  174.817129  3.925946      182.66902     166.965237  \n",
            "[78843800.]\n",
            "succes volume pred\n",
            "success\n",
            "succes\n"
          ]
        },
        {
          "name": "stderr",
          "output_type": "stream",
          "text": [
            "<ipython-input-46-8c6dbfc8dcc0>:7: SettingWithCopyWarning: \n",
            "A value is trying to be set on a copy of a slice from a DataFrame.\n",
            "Try using .loc[row_indexer,col_indexer] = value instead\n",
            "\n",
            "See the caveats in the documentation: https://pandas.pydata.org/pandas-docs/stable/user_guide/indexing.html#returning-a-view-versus-a-copy\n",
            "  new_row[\"Open\"] = last_row[\"Close\"]\n",
            "<ipython-input-46-8c6dbfc8dcc0>:18: SettingWithCopyWarning: \n",
            "A value is trying to be set on a copy of a slice from a DataFrame.\n",
            "Try using .loc[row_indexer,col_indexer] = value instead\n",
            "\n",
            "See the caveats in the documentation: https://pandas.pydata.org/pandas-docs/stable/user_guide/indexing.html#returning-a-view-versus-a-copy\n",
            "  new_row[\"Volume\"] = volume_prediction;\n",
            "<ipython-input-46-8c6dbfc8dcc0>:22: SettingWithCopyWarning: \n",
            "A value is trying to be set on a copy of a slice from a DataFrame.\n",
            "Try using .loc[row_indexer,col_indexer] = value instead\n",
            "\n",
            "See the caveats in the documentation: https://pandas.pydata.org/pandas-docs/stable/user_guide/indexing.html#returning-a-view-versus-a-copy\n",
            "  new_row[\"Date\"] = last_row[\"Date\"] + 24*3600;\n"
          ]
        },
        {
          "name": "stdout",
          "output_type": "stream",
          "text": [
            "pred volume\n",
            "             Date        Open       Close  avg_volume    avg_open      Rsi20  \\\n",
            "10911  1711238400  174.734406  176.080002  76276575.0  174.510621  47.080604   \n",
            "\n",
            "              SMA        SD  lower_band_20  upper_band_20  \n",
            "10911  174.510621  3.638376     181.787373     167.233869  \n",
            "[81820320.]\n",
            "succes volume pred\n",
            "success\n",
            "succes\n"
          ]
        },
        {
          "name": "stderr",
          "output_type": "stream",
          "text": [
            "<ipython-input-46-8c6dbfc8dcc0>:7: SettingWithCopyWarning: \n",
            "A value is trying to be set on a copy of a slice from a DataFrame.\n",
            "Try using .loc[row_indexer,col_indexer] = value instead\n",
            "\n",
            "See the caveats in the documentation: https://pandas.pydata.org/pandas-docs/stable/user_guide/indexing.html#returning-a-view-versus-a-copy\n",
            "  new_row[\"Open\"] = last_row[\"Close\"]\n",
            "<ipython-input-46-8c6dbfc8dcc0>:18: SettingWithCopyWarning: \n",
            "A value is trying to be set on a copy of a slice from a DataFrame.\n",
            "Try using .loc[row_indexer,col_indexer] = value instead\n",
            "\n",
            "See the caveats in the documentation: https://pandas.pydata.org/pandas-docs/stable/user_guide/indexing.html#returning-a-view-versus-a-copy\n",
            "  new_row[\"Volume\"] = volume_prediction;\n",
            "<ipython-input-46-8c6dbfc8dcc0>:22: SettingWithCopyWarning: \n",
            "A value is trying to be set on a copy of a slice from a DataFrame.\n",
            "Try using .loc[row_indexer,col_indexer] = value instead\n",
            "\n",
            "See the caveats in the documentation: https://pandas.pydata.org/pandas-docs/stable/user_guide/indexing.html#returning-a-view-versus-a-copy\n",
            "  new_row[\"Date\"] = last_row[\"Date\"] + 24*3600;\n"
          ]
        },
        {
          "name": "stdout",
          "output_type": "stream",
          "text": [
            "pred volume\n",
            "             Date        Open       Close  avg_volume    avg_open     Rsi20  \\\n",
            "10912  1711324800  173.571045  176.080002  77919896.0  174.121841  48.98994   \n",
            "\n",
            "              SMA        SD  lower_band_20  upper_band_20  \n",
            "10912  174.121841  3.116635     180.355112     167.888571  \n",
            "[81820320.]\n",
            "succes volume pred\n",
            "success\n",
            "succes\n"
          ]
        },
        {
          "name": "stderr",
          "output_type": "stream",
          "text": [
            "<ipython-input-46-8c6dbfc8dcc0>:7: SettingWithCopyWarning: \n",
            "A value is trying to be set on a copy of a slice from a DataFrame.\n",
            "Try using .loc[row_indexer,col_indexer] = value instead\n",
            "\n",
            "See the caveats in the documentation: https://pandas.pydata.org/pandas-docs/stable/user_guide/indexing.html#returning-a-view-versus-a-copy\n",
            "  new_row[\"Open\"] = last_row[\"Close\"]\n",
            "<ipython-input-46-8c6dbfc8dcc0>:18: SettingWithCopyWarning: \n",
            "A value is trying to be set on a copy of a slice from a DataFrame.\n",
            "Try using .loc[row_indexer,col_indexer] = value instead\n",
            "\n",
            "See the caveats in the documentation: https://pandas.pydata.org/pandas-docs/stable/user_guide/indexing.html#returning-a-view-versus-a-copy\n",
            "  new_row[\"Volume\"] = volume_prediction;\n",
            "<ipython-input-46-8c6dbfc8dcc0>:22: SettingWithCopyWarning: \n",
            "A value is trying to be set on a copy of a slice from a DataFrame.\n",
            "Try using .loc[row_indexer,col_indexer] = value instead\n",
            "\n",
            "See the caveats in the documentation: https://pandas.pydata.org/pandas-docs/stable/user_guide/indexing.html#returning-a-view-versus-a-copy\n",
            "  new_row[\"Date\"] = last_row[\"Date\"] + 24*3600;\n"
          ]
        },
        {
          "name": "stdout",
          "output_type": "stream",
          "text": [
            "pred volume\n",
            "             Date        Open       Close  avg_volume    avg_open      Rsi20  \\\n",
            "10913  1711411200  172.640121  176.080002  75176782.0  173.736893  52.119557   \n",
            "\n",
            "              SMA        SD  lower_band_20  upper_band_20  \n",
            "10913  173.736893  2.623761     178.984416     168.489371  \n",
            "[78235744.]\n",
            "succes volume pred\n",
            "success\n",
            "succes\n"
          ]
        },
        {
          "name": "stderr",
          "output_type": "stream",
          "text": [
            "<ipython-input-46-8c6dbfc8dcc0>:7: SettingWithCopyWarning: \n",
            "A value is trying to be set on a copy of a slice from a DataFrame.\n",
            "Try using .loc[row_indexer,col_indexer] = value instead\n",
            "\n",
            "See the caveats in the documentation: https://pandas.pydata.org/pandas-docs/stable/user_guide/indexing.html#returning-a-view-versus-a-copy\n",
            "  new_row[\"Open\"] = last_row[\"Close\"]\n",
            "<ipython-input-46-8c6dbfc8dcc0>:18: SettingWithCopyWarning: \n",
            "A value is trying to be set on a copy of a slice from a DataFrame.\n",
            "Try using .loc[row_indexer,col_indexer] = value instead\n",
            "\n",
            "See the caveats in the documentation: https://pandas.pydata.org/pandas-docs/stable/user_guide/indexing.html#returning-a-view-versus-a-copy\n",
            "  new_row[\"Volume\"] = volume_prediction;\n",
            "<ipython-input-46-8c6dbfc8dcc0>:22: SettingWithCopyWarning: \n",
            "A value is trying to be set on a copy of a slice from a DataFrame.\n",
            "Try using .loc[row_indexer,col_indexer] = value instead\n",
            "\n",
            "See the caveats in the documentation: https://pandas.pydata.org/pandas-docs/stable/user_guide/indexing.html#returning-a-view-versus-a-copy\n",
            "  new_row[\"Date\"] = last_row[\"Date\"] + 24*3600;\n"
          ]
        },
        {
          "name": "stdout",
          "output_type": "stream",
          "text": [
            "pred volume\n",
            "             Date        Open       Close  avg_volume    avg_open      Rsi20  \\\n",
            "10914  1711497600  172.611954  176.080002  75414169.2  173.391399  57.774125   \n",
            "\n",
            "              SMA        SD  lower_band_20  upper_band_20  \n",
            "10914  173.391399  2.245718     177.882834     168.899964  \n",
            "[73976288.]\n",
            "succes volume pred\n",
            "success\n",
            "succes\n"
          ]
        },
        {
          "name": "stderr",
          "output_type": "stream",
          "text": [
            "<ipython-input-46-8c6dbfc8dcc0>:7: SettingWithCopyWarning: \n",
            "A value is trying to be set on a copy of a slice from a DataFrame.\n",
            "Try using .loc[row_indexer,col_indexer] = value instead\n",
            "\n",
            "See the caveats in the documentation: https://pandas.pydata.org/pandas-docs/stable/user_guide/indexing.html#returning-a-view-versus-a-copy\n",
            "  new_row[\"Open\"] = last_row[\"Close\"]\n",
            "<ipython-input-46-8c6dbfc8dcc0>:18: SettingWithCopyWarning: \n",
            "A value is trying to be set on a copy of a slice from a DataFrame.\n",
            "Try using .loc[row_indexer,col_indexer] = value instead\n",
            "\n",
            "See the caveats in the documentation: https://pandas.pydata.org/pandas-docs/stable/user_guide/indexing.html#returning-a-view-versus-a-copy\n",
            "  new_row[\"Volume\"] = volume_prediction;\n",
            "<ipython-input-46-8c6dbfc8dcc0>:22: SettingWithCopyWarning: \n",
            "A value is trying to be set on a copy of a slice from a DataFrame.\n",
            "Try using .loc[row_indexer,col_indexer] = value instead\n",
            "\n",
            "See the caveats in the documentation: https://pandas.pydata.org/pandas-docs/stable/user_guide/indexing.html#returning-a-view-versus-a-copy\n",
            "  new_row[\"Date\"] = last_row[\"Date\"] + 24*3600;\n"
          ]
        },
        {
          "name": "stdout",
          "output_type": "stream",
          "text": [
            "pred volume\n",
            "             Date       Open       Close  avg_volume    avg_open      Rsi20  \\\n",
            "10915  1711584000  174.77919  176.080002  75037478.6  173.214497  68.788256   \n",
            "\n",
            "              SMA        SD  lower_band_20  upper_band_20  \n",
            "10915  173.214497  2.154475     177.523448     168.905547  \n",
            "[83377608.]\n",
            "succes volume pred\n",
            "success\n",
            "succes\n",
            "             Date        Open       Close       Volume  avg_volume  \\\n",
            "10902  1710288000  172.770004  171.130005   52488700.0  74449739.0   \n",
            "10903  1710374400  172.910004  173.000000   72913500.0  74449739.0   \n",
            "10904  1710460800  171.169998  172.619995  121664700.0  74449739.0   \n",
            "10905  1710720000  175.570007  173.720001   75604200.0  74449739.0   \n",
            "10906  1710806400  174.339996  176.080002   55130000.0  74449739.0   \n",
            "10907  1710892800  175.613129  176.080002   63274012.0  74449739.0   \n",
            "10908  1710979200  175.417953  176.080002   75937784.0  74449739.0   \n",
            "10909  1711065600  175.831497  176.080002   78843800.0  74449739.0   \n",
            "10910  1711152000  174.969849  176.080002   78631704.0  74449739.0   \n",
            "10911  1711238400  174.734406  176.080002   78843800.0  74449739.0   \n",
            "10912  1711324800  173.571045  176.080002   81820320.0  74449739.0   \n",
            "10913  1711411200  172.640121  176.080002   81820320.0  74449739.0   \n",
            "10914  1711497600  172.611954  176.080002   78235744.0  74449739.0   \n",
            "10915  1711584000  174.779190  176.080002   73976288.0  74449739.0   \n",
            "10916  1711670400  173.785217  176.080002   83377608.0  74449739.0   \n",
            "\n",
            "         avg_open      Rsi20         SMA        SD  lower_band_20  \\\n",
            "10902  173.415457  41.848117  173.415457  2.100244     177.615945   \n",
            "10903  173.415457  38.962720  173.415457  2.100244     177.615945   \n",
            "10904  173.415457  37.125687  173.415457  2.100244     177.615945   \n",
            "10905  173.415457  43.271079  173.415457  2.100244     177.615945   \n",
            "10906  173.415457  46.781155  173.415457  2.100244     177.615945   \n",
            "10907  173.415457  46.283305  173.415457  2.100244     177.615945   \n",
            "10908  173.415457  48.480854  173.415457  2.100244     177.615945   \n",
            "10909  173.415457  47.328719  173.415457  2.100244     177.615945   \n",
            "10910  173.415457  47.706890  173.415457  2.100244     177.615945   \n",
            "10911  173.415457  49.796780  173.415457  2.100244     177.615945   \n",
            "10912  173.415457  49.900817  173.415457  2.100244     177.615945   \n",
            "10913  173.415457  50.997954  173.415457  2.100244     177.615945   \n",
            "10914  173.415457  56.286074  173.415457  2.100244     177.615945   \n",
            "10915  173.415457  66.680437  173.415457  2.100244     177.615945   \n",
            "10916  173.415457  68.326145  173.415457  2.100244     177.615945   \n",
            "\n",
            "       upper_band_20  \n",
            "10902     169.214969  \n",
            "10903     169.214969  \n",
            "10904     169.214969  \n",
            "10905     169.214969  \n",
            "10906     169.214969  \n",
            "10907     169.214969  \n",
            "10908     169.214969  \n",
            "10909     169.214969  \n",
            "10910     169.214969  \n",
            "10911     169.214969  \n",
            "10912     169.214969  \n",
            "10913     169.214969  \n",
            "10914     169.214969  \n",
            "10915     169.214969  \n",
            "10916     169.214969  \n"
          ]
        },
        {
          "data": {
            "image/png": "[encoded data removed]",
            "text/plain": [
              "<Figure size 640x480 with 1 Axes>"
            ]
          },
          "metadata": {},
          "output_type": "display_data"
        }
      ],
      "source": [
        "def print_new_predictions(count,name):\n",
        "  df = download_data(name)\n",
        "  df = get_df_ready(df, count*2);\n",
        "  prediction = predict_new_rows(count, df)\n",
        "  print(prediction.tail(15))\n",
        "  plt.plot(prediction['Date'].iloc[-(count+1):] ,prediction[\"Open\"].iloc[-(count+1):] , color='r')\n",
        "  plt.plot(df[\"Date\"].iloc[-10:], df[\"Open\"].iloc[-10:], label=\"Werkelijke waarden\", color='b')\n",
        "  plt.grid()\n",
        "  plt.show()\n",
        "\n",
        "print_new_predictions(10,\"AAPL\")"
      ]
    },
    {
      "cell_type": "code",
      "execution_count": null,
      "metadata": {
        "id": "XrRJrkCH2aKj"
      },
      "outputs": [],
      "source": []
    }
  ],
  "metadata": {
    "colab": {
      "provenance": []
    },
    "kernelspec": {
      "display_name": "Python 3",
      "name": "python3"
    },
    "language_info": {
      "codemirror_mode": {
        "name": "ipython",
        "version": 3
      },
      "file_extension": ".py",
      "mimetype": "text/x-python",
      "name": "python",
      "nbconvert_exporter": "python",
      "pygments_lexer": "ipython3",
      "version": "3.10.9"
    }
  },
  "nbformat": 4,
  "nbformat_minor": 0
}
